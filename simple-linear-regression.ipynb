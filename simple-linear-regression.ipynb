{
 "cells": [
  {
   "cell_type": "code",
   "execution_count": 1,
   "id": "b4e44d41",
   "metadata": {},
   "outputs": [],
   "source": [
    "import pandas as pd\n",
    "from sklearn.linear_model import LinearRegression\n",
    "from sklearn.model_selection import train_test_split"
   ]
  },
  {
   "cell_type": "code",
   "execution_count": 2,
   "id": "ba8c3e80",
   "metadata": {},
   "outputs": [
    {
     "name": "stdout",
     "output_type": "stream",
     "text": [
      "Dataframe:     Hours_Studied  Exam_Score\n",
      "0              1          50\n",
      "1              2          55\n",
      "2              3          65\n",
      "3              4          70\n",
      "4              5          75\n"
     ]
    }
   ],
   "source": [
    "data = {\n",
    "    'Hours_Studied': [1, 2, 3, 4, 5],\n",
    "    'Exam_Score': [50, 55, 65, 70, 75]\n",
    "}\n",
    "df = pd.DataFrame(data)\n",
    "X = df[['Hours_Studied']]\n",
    "y = df['Exam_Score']\n",
    "\n",
    "print(\"Dataframe: \", df)"
   ]
  },
  {
   "cell_type": "code",
   "execution_count": 9,
   "id": "df1d2e61",
   "metadata": {},
   "outputs": [
    {
     "name": "stdout",
     "output_type": "stream",
     "text": [
      "y_test:  2    65\n",
      "Name: Exam_Score, dtype: int64\n",
      "y_pred:  [62.5]\n"
     ]
    }
   ],
   "source": [
    "#split the data into training and testing sets\n",
    "X_train, X_test, y_train, y_test = train_test_split(X, y, test_size=0.2, random_state=0)\n",
    "\n",
    "modal = LinearRegression()\n",
    "modal.fit(X_train, y_train)\n",
    "\n",
    "y_pred = modal.predict(X_test)\n",
    "print(\"y_test: \", y_test)\n",
    "print(\"y_pred: \", y_pred)"
   ]
  },
  {
   "cell_type": "code",
   "execution_count": 10,
   "id": "07b93ea3",
   "metadata": {},
   "outputs": [
    {
     "name": "stdout",
     "output_type": "stream",
     "text": [
      "[82.]\n"
     ]
    },
    {
     "name": "stderr",
     "output_type": "stream",
     "text": [
      "d:\\Ai Agents Notes (n8n)\\Machine Learning\\Supervised Learning\\.venv\\Lib\\site-packages\\sklearn\\utils\\validation.py:2749: UserWarning: X does not have valid feature names, but LinearRegression was fitted with feature names\n",
      "  warnings.warn(\n"
     ]
    }
   ],
   "source": [
    "print(modal.predict([[6]]))  # Predicting score for 6 hours of study"
   ]
  },
  {
   "cell_type": "code",
   "execution_count": 12,
   "id": "c62dd656",
   "metadata": {},
   "outputs": [
    {
     "name": "stdout",
     "output_type": "stream",
     "text": [
      "Regression Equation:  Exam_Score = 43.00 + (6.50 * Hours_Studied)\n"
     ]
    }
   ],
   "source": [
    "# mathematical equation of the line: y = mx + b\n",
    "# where m is the slope and b is the y-intercept\n",
    "\n",
    "intercept = modal.intercept_\n",
    "coefficients = modal.coef_\n",
    "\n",
    "equation = f\"Exam_Score = {intercept:.2f} + ({coefficients[0]:.2f} * Hours_Studied)\"\n",
    "print(\"Regression Equation: \", equation)"
   ]
  }
 ],
 "metadata": {
  "kernelspec": {
   "display_name": "supervised-learning",
   "language": "python",
   "name": "python3"
  },
  "language_info": {
   "codemirror_mode": {
    "name": "ipython",
    "version": 3
   },
   "file_extension": ".py",
   "mimetype": "text/x-python",
   "name": "python",
   "nbconvert_exporter": "python",
   "pygments_lexer": "ipython3",
   "version": "3.12.1"
  }
 },
 "nbformat": 4,
 "nbformat_minor": 5
}
